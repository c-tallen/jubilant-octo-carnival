{
 "cells": [
  {
   "attachments": {},
   "cell_type": "markdown",
   "metadata": {},
   "source": [
    "Zadanie 1"
   ]
  },
  {
   "cell_type": "code",
   "execution_count": null,
   "metadata": {},
   "outputs": [],
   "source": [
    "from math import pi\n",
    "def round(r):\n",
    "    return {'pole' : pi * r * r, 'obwod' : 2 * pi * r }\n",
    "\n",
    "print(round(5))"
   ]
  },
  {
   "attachments": {},
   "cell_type": "markdown",
   "metadata": {},
   "source": [
    "Zadanie 2"
   ]
  },
  {
   "cell_type": "code",
   "execution_count": null,
   "metadata": {},
   "outputs": [],
   "source": [
    "def liczby_parzyste(lista_liczb):\n",
    "    return [i for i in lista_liczb if i % 2]\n",
    "\n",
    "print(liczby_parzyste(range(20, 120, 3)))"
   ]
  },
  {
   "attachments": {},
   "cell_type": "markdown",
   "metadata": {},
   "source": [
    "Zadanie 3"
   ]
  },
  {
   "cell_type": "code",
   "execution_count": null,
   "metadata": {},
   "outputs": [],
   "source": [
    "class Ulamek():\n",
    "    def __init__(self, licznik, mianownik):\n",
    "        self.licznik = licznik\n",
    "        self.mianownik = mianownik\n",
    "    def __repr__(self):\n",
    "        return f\"{self.licznik} / {self.mianownik}\"\n",
    "    def nwd(a, b): return Ulamek.nwd(b, a%b) if b else a\n",
    "    \n",
    "    \"\"\" Kazda z poniższych metod bierze jako argument Ulamek \n",
    "    i wykonuje daną operacje na wywoływanej instancji Ulamka Nie zwraca ona nowego Ulamka\"\"\"\n",
    "    def skroc(self):\n",
    "        dzielnik = Ulamek.nwd(self.mianownik, self.licznik)\n",
    "        self.mianownik /= dzielnik\n",
    "        self.licznik /= dzielnik\n",
    "    def dodaj(self, ulamek2):\n",
    "        self.licznik = self.licznik * ulamek2.mianownik + ulamek2.licznik * self.mianownik\n",
    "        self.mianownik = self.mianownik * ulamek2.mianownik\n",
    "        self.skroc()\n",
    "    def odejmij(self, ulamek2):\n",
    "        self.licznik = self.licznik * ulamek2.mianownik - self.mianownik * ulamek2.licznik\n",
    "        self.mianownik *= ulamek2.mianownik\n",
    "        self.skroc()\n",
    "    def mnoz(self, ulamek2):\n",
    "        self.licznik *= ulamek2.licznik\n",
    "        self.mianownik *= ulamek2.mianownik\n",
    "        self.skroc()\n",
    "    def dzielenie(self, ulamek2):\n",
    "        self.licznik *= ulamek2.mianownik\n",
    "        self.mianownik *= ulamek2.licznik\n",
    "        self.skroc()\n",
    "\n",
    "    \n",
    "ul = Ulamek(5, 4)\n",
    "ul2 = Ulamek(3, 4)\n",
    "ul.mnoz(ul2)\n",
    "\n",
    "print(ul)"
   ]
  }
 ],
 "metadata": {
  "kernelspec": {
   "display_name": "Python 3",
   "language": "python",
   "name": "python3"
  },
  "language_info": {
   "codemirror_mode": {
    "name": "ipython",
    "version": 3
   },
   "file_extension": ".py",
   "mimetype": "text/x-python",
   "name": "python",
   "nbconvert_exporter": "python",
   "pygments_lexer": "ipython3",
   "version": "3.10.4"
  },
  "orig_nbformat": 4
 },
 "nbformat": 4,
 "nbformat_minor": 2
}
