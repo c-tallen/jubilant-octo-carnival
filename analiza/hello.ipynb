{
 "cells": [
  {
   "cell_type": "code",
   "execution_count": null,
   "metadata": {},
   "outputs": [],
   "source": [
    "class TempMeasurement():\n",
    "    def __init__(self, temp1, temp2):\n",
    "        self.temp1 = temp1\n",
    "        self.temp2 = temp2\n",
    "    def combinations(self):\n",
    "        return [(i, j) for i in range(self.temp1 + 1) for j in range(self.temp2 + 1)]\n",
    "\n",
    "meas = TempMeasurement(2, 3)\n",
    "\n",
    "print(meas.combinations())"
   ]
  },
  {
   "cell_type": "code",
   "execution_count": null,
   "metadata": {},
   "outputs": [],
   "source": []
  },
  {
   "cell_type": "code",
   "execution_count": null,
   "metadata": {},
   "outputs": [],
   "source": [
    "class Counter():\n",
    "    def __init__(self, stop, start, step):\n",
    "        self.stop = stop\n",
    "        self.start = start - step\n",
    "        self.step = step\n",
    "    def __iter__(self):\n",
    "        return self\n",
    "    def __next__(self):\n",
    "        if self.start == self.stop:\n",
    "            raise StopIteration\n",
    "        \n",
    "        self.start += self.step\n",
    "        return self.start\n",
    "    \n",
    "my_counter = Counter(start=10, stop=20, step=2)\n",
    "for i in my_counter:\n",
    "    print(i)\n"
   ]
  },
  {
   "attachments": {},
   "cell_type": "markdown",
   "metadata": {},
   "source": [
    "The implementation of Counter class from ex.4"
   ]
  },
  {
   "cell_type": "code",
   "execution_count": 2,
   "metadata": {},
   "outputs": [
    {
     "name": "stdout",
     "output_type": "stream",
     "text": [
      "10\n",
      "12\n",
      "14\n",
      "16\n",
      "18\n",
      "20\n"
     ]
    }
   ],
   "source": [
    "def my_generator(start, stop, step):\n",
    "    i = start\n",
    "    while i <= stop:\n",
    "        yield i\n",
    "        i += step\n",
    "\n",
    "my_gen = my_generator(10, 20, 2)\n",
    "\n",
    "for i in my_gen:\n",
    "    print(i)\n"
   ]
  },
  {
   "cell_type": "code",
   "execution_count": 3,
   "metadata": {},
   "outputs": [
    {
     "name": "stdout",
     "output_type": "stream",
     "text": [
      "[1, 2, 3, 4]\n"
     ]
    },
    {
     "data": {
      "text/plain": [
       "[5.5, 11.0, 16.5, 22.0]"
      ]
     },
     "execution_count": 3,
     "metadata": {},
     "output_type": "execute_result"
    }
   ],
   "source": [
    "def my_multiply(coeff):\n",
    "    def multiplication(some_list):\n",
    "        return list(map(lambda x: x * coeff, some_list))\n",
    "    return multiplication\n",
    "example_func = my_multiply(5.5)\n",
    "example_list = [1, 2, 3, 4]\n",
    "print(example_list)\n",
    "example_func(example_list)"
   ]
  },
  {
   "cell_type": "code",
   "execution_count": 6,
   "metadata": {},
   "outputs": [
    {
     "name": "stdout",
     "output_type": "stream",
     "text": [
      "ValueError\n"
     ]
    },
    {
     "data": {
      "text/plain": [
       "'ValueError'"
      ]
     },
     "execution_count": 6,
     "metadata": {},
     "output_type": "execute_result"
    }
   ],
   "source": [
    "def try_except_ex(input_dict, input_list):\n",
    "    for item in input_list:\n",
    "        if item not in input_dict:\n",
    "            raise ValueError\n",
    "def try_except_ex(input_dict, input_list):\n",
    "    for key in input_list:\n",
    "        try:\n",
    "            curr_key = input_dict[key]\n",
    "        except:\n",
    "            print(\"ValueError\")\n",
    "            return \"ValueError\"\n",
    "    return \"OK\"\n",
    "\n",
    "input_dict = {'a': 5, 'b': 7, 'c': 4}\n",
    "input_list_1 = ['a', 'b', 'c']\n",
    "input_list_2 = ['a', 'b', 'd']\n",
    "try_except_ex(input_dict,input_list_1)\n",
    "\n",
    "try_except_ex(input_dict,input_list_2)"
   ]
  },
  {
   "cell_type": "code",
   "execution_count": null,
   "metadata": {},
   "outputs": [],
   "source": []
  }
 ],
 "metadata": {
  "kernelspec": {
   "display_name": "Python 3",
   "language": "python",
   "name": "python3"
  },
  "language_info": {
   "codemirror_mode": {
    "name": "ipython",
    "version": 3
   },
   "file_extension": ".py",
   "mimetype": "text/x-python",
   "name": "python",
   "nbconvert_exporter": "python",
   "pygments_lexer": "ipython3",
   "version": "3.10.4"
  },
  "orig_nbformat": 4
 },
 "nbformat": 4,
 "nbformat_minor": 2
}
